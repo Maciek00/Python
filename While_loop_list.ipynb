{
  "nbformat": 4,
  "nbformat_minor": 0,
  "metadata": {
    "colab": {
      "provenance": [],
      "authorship_tag": "ABX9TyO6GZwxsb8Z/AokB5R4uevO",
      "include_colab_link": true
    },
    "kernelspec": {
      "name": "python3",
      "display_name": "Python 3"
    },
    "language_info": {
      "name": "python"
    }
  },
  "cells": [
    {
      "cell_type": "markdown",
      "metadata": {
        "id": "view-in-github",
        "colab_type": "text"
      },
      "source": [
        "<a href=\"https://colab.research.google.com/github/Maciek00/Python/blob/while_variant/While_loop_list.ipynb\" target=\"_parent\"><img src=\"https://colab.research.google.com/assets/colab-badge.svg\" alt=\"Open In Colab\"/></a>"
      ]
    },
    {
      "cell_type": "code",
      "execution_count": 1,
      "metadata": {
        "colab": {
          "base_uri": "https://localhost:8080/"
        },
        "id": "6OkNkgAuMmgx",
        "outputId": "0cd7c2a1-1176-4dde-a1b2-3eb4b1e9847d"
      },
      "outputs": [
        {
          "output_type": "stream",
          "name": "stdout",
          "text": [
            "Maciek\n",
            "Michal\n",
            "Szyomon\n",
            "Bartek\n",
            "Dominik\n"
          ]
        }
      ],
      "source": [
        "imiona = ['Maciek', 'Michal', 'Szyomon', 'Bartek', 'Dominik']\n",
        "\n",
        "# Initialize an index variable\n",
        "index = 0\n",
        "\n",
        "# Get the length of the list\n",
        "length = len(imiona)\n",
        "\n",
        "while index < length:\n",
        "    print(imiona[index])\n",
        "    index += 1\n"
      ]
    }
  ]
}