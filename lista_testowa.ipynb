{
  "nbformat": 4,
  "nbformat_minor": 0,
  "metadata": {
    "colab": {
      "provenance": [],
      "authorship_tag": "ABX9TyMg1x5XXlkMFUSgEbiRcblR",
      "include_colab_link": true
    },
    "kernelspec": {
      "name": "python3",
      "display_name": "Python 3"
    },
    "language_info": {
      "name": "python"
    }
  },
  "cells": [
    {
      "cell_type": "markdown",
      "metadata": {
        "id": "view-in-github",
        "colab_type": "text"
      },
      "source": [
        "<a href=\"https://colab.research.google.com/github/Maciek00/Python/blob/master/lista_testowa.ipynb\" target=\"_parent\"><img src=\"https://colab.research.google.com/assets/colab-badge.svg\" alt=\"Open In Colab\"/></a>"
      ]
    },
    {
      "cell_type": "code",
      "execution_count": 1,
      "metadata": {
        "colab": {
          "base_uri": "https://localhost:8080/"
        },
        "id": "GVGQv-_gIWPK",
        "outputId": "237d89cd-f357-47da-e9cf-fae226897015"
      },
      "outputs": [
        {
          "output_type": "stream",
          "name": "stdout",
          "text": [
            "Nürburgring Lap Records by Car:\n",
            "Car: Mercedes AMG GT\n",
            "  1. Driver: Lewis Hamilton, Lap Time: 6:12.546\n",
            "Car: Ferrari 488 GTB\n",
            "  1. Driver: Sebastian Vettel, Lap Time: 6:15.789\n",
            "Car: Red Bull Racing RB15\n",
            "  1. Driver: Max Verstappen, Lap Time: 6:10.234\n"
          ]
        }
      ],
      "source": [
        "# Initialize an empty dictionary to store lap records by car\n",
        "lap_records_by_car = {}\n",
        "\n",
        "# Function to record a lap\n",
        "def record_lap(driver_name, car_name, lap_time):\n",
        "    if car_name not in lap_records_by_car:\n",
        "        lap_records_by_car[car_name] = []\n",
        "    lap_records_by_car[car_name].append({\"Driver\": driver_name, \"Lap Time\": lap_time})\n",
        "\n",
        "# Function to list lap records by car\n",
        "def list_lap_records_by_car():\n",
        "    print(\"Nürburgring Lap Records by Car:\")\n",
        "    for car, records in lap_records_by_car.items():\n",
        "        print(f\"Car: {car}\")\n",
        "        for i, record in enumerate(records, start=1):\n",
        "            print(f\"  {i}. Driver: {record['Driver']}, Lap Time: {record['Lap Time']}\")\n",
        "\n",
        "# Example usage:\n",
        "record_lap(\"Lewis Hamilton\", \"Mercedes AMG GT\", \"6:12.546\")\n",
        "record_lap(\"Sebastian Vettel\", \"Ferrari 488 GTB\", \"6:15.789\")\n",
        "record_lap(\"Max Verstappen\", \"Red Bull Racing RB15\", \"6:10.234\")\n",
        "\n",
        "list_lap_records_by_car()\n"
      ]
    },
    {
      "cell_type": "code",
      "source": [],
      "metadata": {
        "id": "Y_RY40MGI-pg"
      },
      "execution_count": null,
      "outputs": []
    }
  ]
}