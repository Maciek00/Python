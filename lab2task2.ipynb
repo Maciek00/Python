{
  "nbformat": 4,
  "nbformat_minor": 0,
  "metadata": {
    "colab": {
      "provenance": [],
      "authorship_tag": "ABX9TyN18k4fiYTpXuAyOQsYxTtr",
      "include_colab_link": true
    },
    "kernelspec": {
      "name": "python3",
      "display_name": "Python 3"
    },
    "language_info": {
      "name": "python"
    }
  },
  "cells": [
    {
      "cell_type": "markdown",
      "metadata": {
        "id": "view-in-github",
        "colab_type": "text"
      },
      "source": [
        "<a href=\"https://colab.research.google.com/github/Maciek00/Python/blob/master/lab2task2.ipynb\" target=\"_parent\"><img src=\"https://colab.research.google.com/assets/colab-badge.svg\" alt=\"Open In Colab\"/></a>"
      ]
    },
    {
      "cell_type": "code",
      "source": [
        "imiona = ['Maciek', 'Michal', \"Szyomon\", 'Bartek', \"Dominik\"]"
      ],
      "metadata": {
        "id": "J-9eBZuHJfke"
      },
      "execution_count": 2,
      "outputs": []
    }
  ]
}