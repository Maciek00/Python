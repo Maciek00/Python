{
  "nbformat": 4,
  "nbformat_minor": 0,
  "metadata": {
    "colab": {
      "provenance": [],
      "authorship_tag": "ABX9TyN37XlT89IMV4zDiKTG5w+k",
      "include_colab_link": true
    },
    "kernelspec": {
      "name": "python3",
      "display_name": "Python 3"
    },
    "language_info": {
      "name": "python"
    }
  },
  "cells": [
    {
      "cell_type": "markdown",
      "metadata": {
        "id": "view-in-github",
        "colab_type": "text"
      },
      "source": [
        "<a href=\"https://colab.research.google.com/github/Maciek00/Python/blob/for_variant/For_loop_list.ipynb\" target=\"_parent\"><img src=\"https://colab.research.google.com/assets/colab-badge.svg\" alt=\"Open In Colab\"/></a>"
      ]
    },
    {
      "cell_type": "code",
      "execution_count": 1,
      "metadata": {
        "colab": {
          "base_uri": "https://localhost:8080/"
        },
        "id": "zhY3Cc_VHiHU",
        "outputId": "72eacae7-03ee-460a-d140-2d59186ad241"
      },
      "outputs": [
        {
          "output_type": "stream",
          "name": "stdout",
          "text": [
            "Maciek\n",
            "Michal\n",
            "Szyomon\n",
            "Bartek\n",
            "Dominik\n"
          ]
        }
      ],
      "source": [
        "imiona = ['Maciek', 'Michal', 'Szyomon', 'Bartek', 'Dominik']\n",
        "\n",
        "for name in imiona:\n",
        "    print(name)\n"
      ]
    }
  ]
}